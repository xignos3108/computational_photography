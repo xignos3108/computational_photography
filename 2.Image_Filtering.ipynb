{
 "cells": [
  {
   "cell_type": "code",
   "execution_count": 181,
   "metadata": {},
   "outputs": [],
   "source": [
    "import numpy as np\n",
    "import cv2\n",
    "import matplotlib.pyplot as plt\n",
    "import time\n",
    "\n",
    "from scipy.ndimage.filters import convolve\n",
    "from tqdm import tqdm"
   ]
  },
  {
   "cell_type": "code",
   "execution_count": 182,
   "metadata": {},
   "outputs": [],
   "source": [
    "# install tqdm\n",
    "#pip install tqdm"
   ]
  },
  {
   "cell_type": "code",
   "execution_count": 183,
   "metadata": {},
   "outputs": [],
   "source": [
    "# install cv2\n",
    "#pip install opencv-python"
   ]
  },
  {
   "cell_type": "code",
   "execution_count": 184,
   "metadata": {},
   "outputs": [],
   "source": [
    "#install scipy\n",
    "#pip install scipy"
   ]
  },
  {
   "cell_type": "code",
   "execution_count": 185,
   "metadata": {},
   "outputs": [],
   "source": [
    "# prevents overflow for uint8\n",
    "def overflow_8(img):\n",
    "    img[img>=255] = 255\n",
    "    img[img<=0] = 0\n",
    "\n",
    "    return img"
   ]
  },
  {
   "cell_type": "code",
   "execution_count": 186,
   "metadata": {},
   "outputs": [],
   "source": [
    "def gauss(n=3, sigma=1):\n",
    "    r = np.arange(0, n, dtype=np.float32) - (n-1.)/2.\n",
    "    r = np.exp(-r**2./(2.*sigma**2))\n",
    "\n",
    "    return r / np.sum(r)"
   ]
  },
  {
   "cell_type": "code",
   "execution_count": 187,
   "metadata": {},
   "outputs": [],
   "source": [
    "def gauss2d(shape=(3,3), sigma=1):\n",
    "    g1 = gauss(shape[0], sigma).reshape([shape[0], 1])\n",
    "    g2 = gauss(shape[1], sigma).reshape([1, shape[1]])\n",
    "\n",
    "    return np.matmul(g1,g2)"
   ]
  },
  {
   "cell_type": "code",
   "execution_count": 189,
   "metadata": {},
   "outputs": [],
   "source": [
    "def psf2otf(flt, img_shape):\n",
    "    flt_top_half = flt.shape[0]//2\n",
    "    flt_bottom_half = flt.shape[0] - flt_top_half\n",
    "    flt_left_half = flt.shape[1]//2\n",
    "    flt_right_half = flt.shape[1] - flt_left_half\n",
    "    \n",
    "    flt_padded = np.zeros(img_shape, dtype=flt.dtype)\n",
    "    flt_padded[:flt_bottom_half, :flt_right_half] = flt[flt_top_half:, flt_left_half:]\n",
    "    flt_padded[:flt_bottom_half, img_shape[1]-flt_left_half:] = flt[flt_top_half:, :flt_left_half]\n",
    "    flt_padded[img_shape[0]-flt_top_half:, :flt_right_half] = flt[:flt_top_half, flt_left_half:]\n",
    "    flt[:flt_top_half, :flt_left_half]\n",
    "\n",
    "    return flt_padded"
   ]
  },
  {
   "cell_type": "code",
   "execution_count": 192,
   "metadata": {},
   "outputs": [],
   "source": [
    "# sharpen filter in spatial domain filtering\n",
    "def unsharp_masking_0(img, alpha=1, sigma=1):\n",
    "    kernel = gauss2d(shape=(3,3), sigma=sigma)\n",
    "    \n",
    "    start_time = time.time() # record start time\n",
    "    \n",
    "    img_convolved = convolve(img, kernel)\n",
    "    result = img + alpha*(img - img_convolved)\n",
    "    \n",
    "    end_time = time.time() # record end time\n",
    "    time_elapsed = end_time-start_time\n",
    "    \n",
    "    return result, time_elapsed"
   ]
  },
  {
   "cell_type": "code",
   "execution_count": 193,
   "metadata": {},
   "outputs": [],
   "source": [
    "# sharpen filter in frequency domain filtering \n",
    "def unsharp_masking_1(img, alpha=1, sigma=1):\n",
    "    kernel = gauss2d(shape=(3,3), sigma=sigma)\n",
    "    kernel = psf2otf(kernel, img.shape)\n",
    "\n",
    "    start_time = time.time() # record start time\n",
    "    \n",
    "    img_fft = np.fft.fft2(img)\n",
    "    kernel_fft = np.fft.fft2(kernel)\n",
    "    \n",
    "    img_multiplied = img_fft * kernel_fft\n",
    "    \n",
    "    result_freq = img_fft + alpha*(img_fft - img_multiplied)\n",
    "    result = np.abs(np.fft.ifft2(result_freq))\n",
    "    \n",
    "    end_time = time.time() # record end time\n",
    "    time_elapsed = end_time-start_time\n",
    "    \n",
    "    return result, time_elapsed"
   ]
  },
  {
   "cell_type": "code",
   "execution_count": 194,
   "metadata": {},
   "outputs": [],
   "source": [
    "def img_pad(img, padding = 0):\n",
    "    height, width = img.shape\n",
    "    img_padded = np.zeros((img.shape[0]+2*padding, img.shape[1]+2*padding))\n",
    "    \n",
    "    img_padded[padding:(padding+height), padding:(padding+width)] = img\n",
    "\n",
    "    return img_padded"
   ]
  },
  {
   "cell_type": "code",
   "execution_count": 195,
   "metadata": {},
   "outputs": [],
   "source": [
    "def bilateral_filter(img, diameter=3, sigma_s=1000, sigma_r=50):\n",
    "    height, width = img.shape # (434, 640)\n",
    "    output = np.zeros((height, width))\n",
    "    \n",
    "    img_padded = img_pad(img, padding=diameter//2)\n",
    "    height_p, width_p = img_padded.shape\n",
    "    \n",
    "    for n in tqdm(range(height_p)):\n",
    "        if n-(diameter//2)<0 or n+(diameter//2)>=height_p:\n",
    "            continue\n",
    "        for m in range(width_p):\n",
    "            if m-(diameter//2)<0 or m+(diameter//2)>=width_p:\n",
    "                continue\n",
    "            filtered_img = 0\n",
    "            norm_factor = 0\n",
    "            for l in range(-(diameter//2), (diameter//2)+1):\n",
    "                for k in range(-(diameter//2), (diameter//2)+1):\n",
    "                    # Gaussian Kernel\n",
    "                    g = np.exp(-(k**2 + l**2)/(2*(sigma_s**2)))\n",
    "                    # Edge-aware Kernel\n",
    "                    r = np.exp((-(np.abs(img_padded[n+l][m+k]-img_padded[n][m]))**2)/(2*(sigma_r**2)))\n",
    "                    kernel = g * r\n",
    "                    \n",
    "                    filtered_img += (img_padded[n+l][m+k] * kernel)\n",
    "                    norm_factor += kernel\n",
    "            \n",
    "            filtered_img = filtered_img / norm_factor\n",
    "            output[n-(diameter//2)][m-(diameter//2)] = filtered_img\n",
    "    \n",
    "    return output"
   ]
  },
  {
   "cell_type": "code",
   "execution_count": 196,
   "metadata": {},
   "outputs": [],
   "source": [
    "#img = cv2.imread('mj.jpg', cv2.IMREAD_GRAYSCALE).astype(np.float32)\n",
    "img = cv2.imread('obama.jpg', cv2.IMREAD_GRAYSCALE).astype(np.float32)"
   ]
  },
  {
   "cell_type": "code",
   "execution_count": 197,
   "metadata": {},
   "outputs": [
    {
     "name": "stdout",
     "output_type": "stream",
     "text": [
      "0.009973526000976562\n"
     ]
    },
    {
     "data": {
      "text/plain": [
       "True"
      ]
     },
     "execution_count": 197,
     "metadata": {},
     "output_type": "execute_result"
    }
   ],
   "source": [
    "unsharp_0, time_elapsed = unsharp_masking_0(img, alpha=1, sigma=1)\n",
    "result_unsharp_0 = overflow_8(unsharp_0).astype('uint8')\n",
    "\n",
    "print(time_elapsed)\n",
    "\n",
    "cv2.imshow('result_unsharp_0', result_unsharp_0)\n",
    "cv2.waitKey(0)\n",
    "cv2.destroyAllWindows()\n",
    "\n",
    "cv2.imwrite(\"result_unsharp_000.jpg\", result_unsharp_0)"
   ]
  },
  {
   "cell_type": "code",
   "execution_count": 198,
   "metadata": {},
   "outputs": [
    {
     "name": "stdout",
     "output_type": "stream",
     "text": [
      "0.12077116966247559\n"
     ]
    },
    {
     "data": {
      "text/plain": [
       "True"
      ]
     },
     "execution_count": 198,
     "metadata": {},
     "output_type": "execute_result"
    }
   ],
   "source": [
    "unsharp_1, time_elapsed = unsharp_masking_1(img, alpha=1, sigma=1)\n",
    "result_unsharp_1 = overflow_8(unsharp_1).astype('uint8')\n",
    "\n",
    "print(time_elapsed)\n",
    "\n",
    "cv2.imshow('result_unsharp_1', result_unsharp_1)\n",
    "cv2.waitKey(0)\n",
    "cv2.destroyAllWindows()\n",
    "\n",
    "cv2.imwrite(\"result_unsharp_1.jpg\", result_unsharp_1)"
   ]
  },
  {
   "cell_type": "code",
   "execution_count": 199,
   "metadata": {},
   "outputs": [
    {
     "name": "stderr",
     "output_type": "stream",
     "text": [
      "100%|██████████| 618/618 [00:48<00:00, 12.73it/s]\n"
     ]
    },
    {
     "data": {
      "text/plain": [
       "True"
      ]
     },
     "execution_count": 199,
     "metadata": {},
     "output_type": "execute_result"
    }
   ],
   "source": [
    "bilateral = bilateral_filter(img, 5, sigma_s=20, sigma_r=20)\n",
    "\n",
    "result_bilateral = overflow_8(bilateral).astype('uint8')\n",
    "\n",
    "cv2.imshow('result_bilateral', result_bilateral)\n",
    "cv2.waitKey(0)\n",
    "cv2.destroyAllWindows()\n",
    "\n",
    "cv2.imwrite(\"result_bilateral_20_20.jpg\", result_bilateral)"
   ]
  }
 ],
 "metadata": {
  "kernelspec": {
   "display_name": "Python 3.6.9 64-bit",
   "language": "python",
   "name": "python3"
  },
  "language_info": {
   "codemirror_mode": {
    "name": "ipython",
    "version": 3
   },
   "file_extension": ".py",
   "mimetype": "text/x-python",
   "name": "python",
   "nbconvert_exporter": "python",
   "pygments_lexer": "ipython3",
   "version": "3.6.9"
  },
  "orig_nbformat": 4,
  "vscode": {
   "interpreter": {
    "hash": "31f2aee4e71d21fbe5cf8b01ff0e069b9275f58929596ceb00d14d90e3e16cd6"
   }
  }
 },
 "nbformat": 4,
 "nbformat_minor": 2
}
