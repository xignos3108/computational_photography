{
 "cells": [
  {
   "cell_type": "code",
   "execution_count": null,
   "metadata": {},
   "outputs": [],
   "source": [
    "import numpy as np\n",
    "import cv2\n",
    "\n",
    "from scipy.ndimage.filters import convolve"
   ]
  },
  {
   "cell_type": "code",
   "execution_count": null,
   "metadata": {},
   "outputs": [],
   "source": [
    "# prevents overflow for float 64\n",
    "def overflow_64(img):\n",
    "    img[img>=65535] = 65535\n",
    "    img[img<=0] = 0\n",
    "\n",
    "    return img"
   ]
  },
  {
   "cell_type": "code",
   "execution_count": null,
   "metadata": {},
   "outputs": [],
   "source": [
    "# prevents overflow for uint8\n",
    "def overflow_8(img):\n",
    "    img[img>=255] = 255\n",
    "    img[img<=0] = 0\n",
    "\n",
    "    return img"
   ]
  },
  {
   "cell_type": "code",
   "execution_count": null,
   "metadata": {},
   "outputs": [],
   "source": [
    "# create cfa_masks\n",
    "def cfa_mask(img, pattern):\n",
    "    height, width = img.shape[0], img.shape[1]\n",
    "\n",
    "    mask_R = np.zeros(img.shape)\n",
    "    mask_G = np.zeros(img.shape)\n",
    "    mask_B = np.zeros(img.shape)\n",
    "\n",
    "    if pattern == 'RGGB':\n",
    "        for i in range(height):\n",
    "            for j in range(width):\n",
    "                if i%2==0 and j%2==0:\n",
    "                    mask_R[i][j] = 1\n",
    "                if i%2==0 and j%2==1:\n",
    "                    mask_G[i][j] = 1\n",
    "                if i%2==1 and j%2==0:\n",
    "                    mask_G[i][j] = 1\n",
    "                if i%2==1 and j%2==1:\n",
    "                    mask_B[i][j] = 1\n",
    "\n",
    "    elif pattern == 'GRBG':\n",
    "        for i in range(height):\n",
    "            for j in range(width):\n",
    "                if i%2==0 and j%2==1:\n",
    "                    mask_R[i][j] = 1\n",
    "                if i%2==0 and j%2==0:\n",
    "                    mask_G[i][j] = 1\n",
    "                if i%2==1 and j%2==1:\n",
    "                    mask_G[i][j] = 1\n",
    "                if i%2==1 and j%2==0:\n",
    "                    mask_B[i][j] = 1\n",
    "\n",
    "    return mask_R, mask_G, mask_B"
   ]
  },
  {
   "cell_type": "code",
   "execution_count": null,
   "metadata": {},
   "outputs": [],
   "source": [
    "# bilinear demosaicing algorithm\n",
    "# RGGB for horizontal, GRBG for vertical img\n",
    "# BGR stack for horizontal, RGB stack for vertical img\n",
    "def cfa_interpolation(img):    \n",
    "    height, width = img.shape[0], img.shape[1]\n",
    "\n",
    "    kernel_RB = (np.array([\n",
    "        [1,2,1],\n",
    "        [2,4,2], \n",
    "        [1,2,1]\n",
    "    ])/4)\n",
    "    \n",
    "    kernel_G = (np.array([\n",
    "        [0,1,0],\n",
    "        [1,4,1],\n",
    "        [0,1,0]\n",
    "    ])/4) \n",
    "    \n",
    "    if height > width :\n",
    "        mask_R, mask_G, mask_B = cfa_mask(img, 'RGGB')\n",
    "\n",
    "        R = convolve(img*mask_R, kernel_RB)\n",
    "        G = convolve(img*mask_G, kernel_G)\n",
    "        B = convolve(img*mask_B, kernel_RB)\n",
    "\n",
    "        result = np.stack([B,G,R], axis=-1)\n",
    "    else :\n",
    "        mask_R, mask_G, mask_B = cfa_mask(img, 'GRBG')\n",
    "\n",
    "        R = convolve(img*mask_R, kernel_RB)\n",
    "        G = convolve(img*mask_G, kernel_G)\n",
    "        B = convolve(img*mask_B, kernel_RB)\n",
    "\n",
    "        result = np.stack([R,G,B], axis=-1)\n",
    "    \n",
    "    return result"
   ]
  },
  {
   "cell_type": "code",
   "execution_count": null,
   "metadata": {},
   "outputs": [],
   "source": [
    "# automatic white balance based on grey world algorithm\n",
    "def automatic_WB(img):    \n",
    "    avg_ch0 = img[:,:,0].mean()\n",
    "    avg_ch1 = img[:,:,1].mean()\n",
    "    avg_ch2 = img[:,:,2].mean()\n",
    "\n",
    "    ch0 = avg_ch1/avg_ch0 * img[:,:,0]\n",
    "    ch1 = img[:,:,1]\n",
    "    ch2 = avg_ch1/avg_ch2 * img[:,:,2]\n",
    "\n",
    "    result = np.stack([ch0,ch1,ch2], axis=-1)\n",
    "\n",
    "    return result"
   ]
  },
  {
   "cell_type": "code",
   "execution_count": null,
   "metadata": {},
   "outputs": [],
   "source": [
    "# gamma correction\n",
    "# for scale [0, 255]\n",
    "def gamma_correction(img, gamma=2.2):\n",
    "    result = ((img/65536)**(1/gamma))*255\n",
    "    \n",
    "    return result"
   ]
  },
  {
   "cell_type": "code",
   "execution_count": null,
   "metadata": {},
   "outputs": [],
   "source": [
    "def sharpen(img, value=1):\n",
    "    kernel = np.array([[0, -1, 0],\n",
    "                       [-1, 5,-1],\n",
    "                       [0, -1, 0]])\n",
    "\n",
    "    ch0 = img[:,:,0]\n",
    "    ch1 = img[:,:,1]\n",
    "    ch2 = img[:,:,2]\n",
    "    \n",
    "    for i in range(value):\n",
    "        ch0 = convolve(ch0, kernel)\n",
    "        ch1 = convolve(ch1, kernel)\n",
    "        ch2 = convolve(ch2, kernel)\n",
    "\n",
    "    result = np.stack([ch0,ch1,ch2], axis=-1)\n",
    "    \n",
    "    return result"
   ]
  },
  {
   "cell_type": "code",
   "execution_count": null,
   "metadata": {},
   "outputs": [],
   "source": [
    "def contrast(img, value=1):\n",
    "    ch0 = img[:,:,0] * value\n",
    "    ch1 = img[:,:,1] * value\n",
    "    ch2 = img[:,:,2] * value\n",
    "\n",
    "    result = np.stack([ch0,ch1,ch2], axis=-1)\n",
    "    \n",
    "    return result"
   ]
  },
  {
   "cell_type": "code",
   "execution_count": null,
   "metadata": {},
   "outputs": [],
   "source": [
    "def brightness(img, value=0):\n",
    "    ch0 = img[:,:,0] + value\n",
    "    ch1 = img[:,:,1] + value\n",
    "    ch2 = img[:,:,2] + value\n",
    "\n",
    "    result = np.stack([ch0,ch1,ch2], axis=-1)\n",
    "    \n",
    "    return result"
   ]
  },
  {
   "cell_type": "code",
   "execution_count": null,
   "metadata": {},
   "outputs": [],
   "source": [
    "def compression(img):\n",
    "    result = overflow_8(img)\n",
    "    result = img.astype(np.uint8)\n",
    "    \n",
    "    return result"
   ]
  },
  {
   "cell_type": "code",
   "execution_count": null,
   "metadata": {},
   "outputs": [],
   "source": [
    "# select img_type(e.g. 'picture', 'document')\n",
    "def process_image(tiff, output_name, img_type):\n",
    "    output = cfa_interpolation(tiff)\n",
    "    output = automatic_WB(output)\n",
    "    output = gamma_correction(output)\n",
    "\n",
    "    if img_type == \"document\":\n",
    "        output = sharpen(output, 1)\n",
    "        output = contrast(output, 2.1)\n",
    "        output = brightness(output, -110)\n",
    "\n",
    "    elif img_type == \"picture\":        \n",
    "        output = sharpen(output, 0)\n",
    "        output = contrast(output, 1.5)\n",
    "        output = brightness(output, -40)\n",
    "\n",
    "    result = compression(output)\n",
    "    cv2.imsave(output_name, result)\n",
    "\n",
    "    return result"
   ]
  },
  {
   "cell_type": "code",
   "execution_count": null,
   "metadata": {},
   "outputs": [],
   "source": [
    "# read TIFFs\n",
    "# given images\n",
    "sample_0 = cv2.imread('./test_images/20200917_170725.tiff')\n",
    "sample_1 = cv2.imread('./test_images/20200917_170752.tiff')\n",
    "# custom images\n",
    "sample_2 = cv2.imread('./test_images/20221004_102514.tiff')\n",
    "sample_3 = cv2.imread('./test_images/20221004_103335.tiff')\n",
    "sample_4 = cv2.imread('./test_images/20221004_103548.tiff')\n",
    "sample_5 = cv2.imread('./test_images/20221004_103814.tiff')\n",
    "\n",
    "#pipeline: Gain Control A/D Converter Possible LUT -> White Balance -> CFA Demosaicing -> Noise Reduction/Sharpening -> Color Space Transform + Color Preferences -> Tone Reproduction -> JPEG Compression -> Exif File Info -> Save to storage \n",
    "# given images\n",
    "jpeg_0 = process_image(sample_0, 'sample_0.jpeg', 'picture')\n",
    "jpeg_1 = process_image(sample_1, 'sample_1.jpeg', 'document')\n",
    "# custom images\n",
    "jpeg_2 = process_image(sample_2, 'sample_2.jpeg', 'picture')\n",
    "jpeg_3 = process_image(sample_3, 'sample_3.jpeg', 'picture')\n",
    "jpeg_4 = process_image(sample_4, 'sample_4.jpeg', 'picture')\n",
    "jpeg_5 = process_image(sample_5, 'sample_5.jpeg', 'document')"
   ]
  }
 ],
 "metadata": {
  "kernelspec": {
   "display_name": "Python 3.6.9 64-bit",
   "language": "python",
   "name": "python3"
  },
  "language_info": {
   "name": "python",
   "version": "3.6.9"
  },
  "orig_nbformat": 4,
  "vscode": {
   "interpreter": {
    "hash": "31f2aee4e71d21fbe5cf8b01ff0e069b9275f58929596ceb00d14d90e3e16cd6"
   }
  }
 },
 "nbformat": 4,
 "nbformat_minor": 2
}
