{
 "cells": [
  {
   "cell_type": "code",
   "execution_count": 1,
   "metadata": {},
   "outputs": [],
   "source": [
    "import cv2\n",
    "import numpy as np\n",
    "import getopt\n",
    "import sys\n",
    "import random"
   ]
  },
  {
   "cell_type": "code",
   "execution_count": 2,
   "metadata": {},
   "outputs": [],
   "source": [
    "def findFeatures(img):\n",
    "    sift = cv2.xfeatures2d.SIFT_create()\n",
    "    keypoints, descriptors = sift.detectAndCompute(img, None)\n",
    "    \n",
    "    return keypoints, descriptors"
   ]
  },
  {
   "cell_type": "code",
   "execution_count": 3,
   "metadata": {},
   "outputs": [],
   "source": [
    "def matchFeatures(kp1, kp2, desc1, desc2, img1, img2):\n",
    "    matcher = cv2.BFMatcher(cv2.NORM_L2, crossCheck=True)\n",
    "    matches = matcher.match(desc1, desc2)\n",
    "\n",
    "    return matches"
   ]
  },
  {
   "cell_type": "code",
   "execution_count": 4,
   "metadata": {},
   "outputs": [],
   "source": [
    "#\n",
    "# Computers a homography from 4-correspondences\n",
    "#\n",
    "def calculateHomography(correspondences):\n",
    "    #loop through correspondences and create assemble matrix\n",
    "    aList = []\n",
    "    for corr in correspondences:\n",
    "        p1 = np.matrix([corr.item(0), corr.item(1), 1])\n",
    "        p2 = np.matrix([corr.item(2), corr.item(3), 1])\n",
    "\n",
    "        a2 = [0, 0, 0, -p2.item(2) * p1.item(0), -p2.item(2) * p1.item(1), -p2.item(2) * p1.item(2),\n",
    "              p2.item(1) * p1.item(0), p2.item(1) * p1.item(1), p2.item(1) * p1.item(2)]\n",
    "        a1 = [-p2.item(2) * p1.item(0), -p2.item(2) * p1.item(1), -p2.item(2) * p1.item(2), 0, 0, 0,\n",
    "              p2.item(0) * p1.item(0), p2.item(0) * p1.item(1), p2.item(0) * p1.item(2)]\n",
    "        aList.append(a1)\n",
    "        aList.append(a2)\n",
    " \n",
    "    matrixA = np.matrix(aList)\n",
    "\n",
    "    #svd composition\n",
    "    u, s, v = np.linalg.svd(matrixA)\n",
    "\n",
    "    #reshape the min singular value into a 3 by 3 matrix\n",
    "    h = np.reshape(v[8], (3, 3))\n",
    "\n",
    "    #normalize and now we have h\n",
    "    h = (1/h.item(8)) * h\n",
    "    \n",
    "    return h"
   ]
  },
  {
   "cell_type": "code",
   "execution_count": 5,
   "metadata": {},
   "outputs": [],
   "source": [
    "img1 = cv2.imread('img1.png', 0)\n",
    "img2 = cv2.imread('img4.png', 0)"
   ]
  },
  {
   "cell_type": "code",
   "execution_count": 6,
   "metadata": {},
   "outputs": [
    {
     "name": "stderr",
     "output_type": "stream",
     "text": [
      "[ WARN:0@1.536] global /io/opencv_contrib/modules/xfeatures2d/misc/python/shadow_sift.hpp (13) SIFT_create DEPRECATED: cv.xfeatures2d.SIFT_create() is deprecated due SIFT tranfer to the main repository. https://github.com/opencv/opencv/issues/16736\n"
     ]
    }
   ],
   "source": [
    "kp1, desc1 = findFeatures(img1)\n",
    "kp2, desc2 = findFeatures(img2)"
   ]
  },
  {
   "cell_type": "code",
   "execution_count": 17,
   "metadata": {},
   "outputs": [],
   "source": [
    "#find features and keypoints\n",
    "correspondenceList = []\n",
    "\n",
    "keypoints = [kp1, kp2]\n",
    "matches = matchFeatures(kp1, kp2, desc1, desc2, img1, img2)\n",
    "\n",
    "for match in matches:\n",
    "    (x1, y1) = keypoints[0][match.queryIdx].pt\n",
    "    (x2, y2) = keypoints[1][match.trainIdx].pt\n",
    "    correspondenceList.append([x1, y1, x2, y2])\n",
    "\n",
    "corrs = np.matrix(correspondenceList)"
   ]
  },
  {
   "cell_type": "code",
   "execution_count": 19,
   "metadata": {},
   "outputs": [
    {
     "name": "stdout",
     "output_type": "stream",
     "text": [
      "(531, 4)\n",
      "[[ 52.77297974 370.13537598 319.41482544 210.87768555]\n",
      " [128.76858521 223.2722168  298.61282349   3.69074297]\n",
      " [141.84231567 239.23823547 359.66296387 205.27929688]\n",
      " ...\n",
      " [667.41192627 264.00112915 122.38134003 211.09960938]\n",
      " [734.58782959 172.56782532 274.09265137 210.59173584]\n",
      " [796.47229004 539.5637207  216.98129272 187.09721375]]\n"
     ]
    }
   ],
   "source": [
    "print(corrs.shape)\n",
    "\n",
    "print(corrs)"
   ]
  },
  {
   "cell_type": "code",
   "execution_count": 20,
   "metadata": {},
   "outputs": [],
   "source": [
    "p1 = np.matrix([111, 222, 1])"
   ]
  },
  {
   "cell_type": "code",
   "execution_count": 23,
   "metadata": {},
   "outputs": [
    {
     "name": "stdout",
     "output_type": "stream",
     "text": [
      "[[111 222   1]]\n"
     ]
    }
   ],
   "source": [
    "print(p1)"
   ]
  }
 ],
 "metadata": {
  "kernelspec": {
   "display_name": "Python 3.9.13 ('base')",
   "language": "python",
   "name": "python3"
  },
  "language_info": {
   "codemirror_mode": {
    "name": "ipython",
    "version": 3
   },
   "file_extension": ".py",
   "mimetype": "text/x-python",
   "name": "python",
   "nbconvert_exporter": "python",
   "pygments_lexer": "ipython3",
   "version": "3.9.13"
  },
  "orig_nbformat": 4,
  "vscode": {
   "interpreter": {
    "hash": "3de81fe4e6ba69f9dd1ba4bc06fd534bba4c61d1ac8c822d6c376fecd8ef3eb2"
   }
  }
 },
 "nbformat": 4,
 "nbformat_minor": 2
}
